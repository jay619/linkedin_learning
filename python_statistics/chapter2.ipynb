{
 "metadata": {
  "language_info": {
   "codemirror_mode": {
    "name": "ipython",
    "version": 3
   },
   "file_extension": ".py",
   "mimetype": "text/x-python",
   "name": "python",
   "nbconvert_exporter": "python",
   "pygments_lexer": "ipython3",
   "version": "3.9.1"
  },
  "orig_nbformat": 4,
  "kernelspec": {
   "name": "python3",
   "display_name": "Python 3.9.1 64-bit ('venv': virtualenv)"
  },
  "interpreter": {
   "hash": "036d29e2b62ac89581593ab3ee981d8811c0e13e0879f0ce64ff0352da28ffc0"
  }
 },
 "nbformat": 4,
 "nbformat_minor": 2,
 "cells": [
  {
   "source": [
    "** Objective **\n",
    "\n",
    "* Clean the tb file\n",
    "* Confirms the total tuberculosis cases per Country, year, Sex\n",
    "* Sex and Age are shown as columns. E.g. m04 -> Male between 0-4 yrs, m514 -> Male between 5-14yrs\n"
   ],
   "cell_type": "markdown",
   "metadata": {}
  },
  {
   "cell_type": "code",
   "execution_count": 1,
   "metadata": {},
   "outputs": [],
   "source": [
    "import numpy as np\n",
    "import pandas as pd\n",
    "import matplotlib\n",
    "import matplotlib.pyplot as plt"
   ]
  },
  {
   "source": [
    "data = pd.read_csv('../Exercise Files/chapter2/02_05/tb.csv')\n",
    "data.head()"
   ],
   "cell_type": "code",
   "metadata": {},
   "execution_count": 2,
   "outputs": [
    {
     "output_type": "execute_result",
     "data": {
      "text/plain": [
       "  country  year  m04  m514  m014  m1524  m2534  m3544  m4554  m5564  ...  f04  \\\n",
       "0      AD  1989  NaN   NaN   NaN    NaN    NaN    NaN    NaN    NaN  ...  NaN   \n",
       "1      AD  1990  NaN   NaN   NaN    NaN    NaN    NaN    NaN    NaN  ...  NaN   \n",
       "2      AD  1991  NaN   NaN   NaN    NaN    NaN    NaN    NaN    NaN  ...  NaN   \n",
       "3      AD  1992  NaN   NaN   NaN    NaN    NaN    NaN    NaN    NaN  ...  NaN   \n",
       "4      AD  1993  NaN   NaN   NaN    NaN    NaN    NaN    NaN    NaN  ...  NaN   \n",
       "\n",
       "   f514  f014  f1524  f2534  f3544  f4554  f5564  f65  fu  \n",
       "0   NaN   NaN    NaN    NaN    NaN    NaN    NaN  NaN NaN  \n",
       "1   NaN   NaN    NaN    NaN    NaN    NaN    NaN  NaN NaN  \n",
       "2   NaN   NaN    NaN    NaN    NaN    NaN    NaN  NaN NaN  \n",
       "3   NaN   NaN    NaN    NaN    NaN    NaN    NaN  NaN NaN  \n",
       "4   NaN   NaN    NaN    NaN    NaN    NaN    NaN  NaN NaN  \n",
       "\n",
       "[5 rows x 22 columns]"
      ],
      "text/html": "<div>\n<style scoped>\n    .dataframe tbody tr th:only-of-type {\n        vertical-align: middle;\n    }\n\n    .dataframe tbody tr th {\n        vertical-align: top;\n    }\n\n    .dataframe thead th {\n        text-align: right;\n    }\n</style>\n<table border=\"1\" class=\"dataframe\">\n  <thead>\n    <tr style=\"text-align: right;\">\n      <th></th>\n      <th>country</th>\n      <th>year</th>\n      <th>m04</th>\n      <th>m514</th>\n      <th>m014</th>\n      <th>m1524</th>\n      <th>m2534</th>\n      <th>m3544</th>\n      <th>m4554</th>\n      <th>m5564</th>\n      <th>...</th>\n      <th>f04</th>\n      <th>f514</th>\n      <th>f014</th>\n      <th>f1524</th>\n      <th>f2534</th>\n      <th>f3544</th>\n      <th>f4554</th>\n      <th>f5564</th>\n      <th>f65</th>\n      <th>fu</th>\n    </tr>\n  </thead>\n  <tbody>\n    <tr>\n      <th>0</th>\n      <td>AD</td>\n      <td>1989</td>\n      <td>NaN</td>\n      <td>NaN</td>\n      <td>NaN</td>\n      <td>NaN</td>\n      <td>NaN</td>\n      <td>NaN</td>\n      <td>NaN</td>\n      <td>NaN</td>\n      <td>...</td>\n      <td>NaN</td>\n      <td>NaN</td>\n      <td>NaN</td>\n      <td>NaN</td>\n      <td>NaN</td>\n      <td>NaN</td>\n      <td>NaN</td>\n      <td>NaN</td>\n      <td>NaN</td>\n      <td>NaN</td>\n    </tr>\n    <tr>\n      <th>1</th>\n      <td>AD</td>\n      <td>1990</td>\n      <td>NaN</td>\n      <td>NaN</td>\n      <td>NaN</td>\n      <td>NaN</td>\n      <td>NaN</td>\n      <td>NaN</td>\n      <td>NaN</td>\n      <td>NaN</td>\n      <td>...</td>\n      <td>NaN</td>\n      <td>NaN</td>\n      <td>NaN</td>\n      <td>NaN</td>\n      <td>NaN</td>\n      <td>NaN</td>\n      <td>NaN</td>\n      <td>NaN</td>\n      <td>NaN</td>\n      <td>NaN</td>\n    </tr>\n    <tr>\n      <th>2</th>\n      <td>AD</td>\n      <td>1991</td>\n      <td>NaN</td>\n      <td>NaN</td>\n      <td>NaN</td>\n      <td>NaN</td>\n      <td>NaN</td>\n      <td>NaN</td>\n      <td>NaN</td>\n      <td>NaN</td>\n      <td>...</td>\n      <td>NaN</td>\n      <td>NaN</td>\n      <td>NaN</td>\n      <td>NaN</td>\n      <td>NaN</td>\n      <td>NaN</td>\n      <td>NaN</td>\n      <td>NaN</td>\n      <td>NaN</td>\n      <td>NaN</td>\n    </tr>\n    <tr>\n      <th>3</th>\n      <td>AD</td>\n      <td>1992</td>\n      <td>NaN</td>\n      <td>NaN</td>\n      <td>NaN</td>\n      <td>NaN</td>\n      <td>NaN</td>\n      <td>NaN</td>\n      <td>NaN</td>\n      <td>NaN</td>\n      <td>...</td>\n      <td>NaN</td>\n      <td>NaN</td>\n      <td>NaN</td>\n      <td>NaN</td>\n      <td>NaN</td>\n      <td>NaN</td>\n      <td>NaN</td>\n      <td>NaN</td>\n      <td>NaN</td>\n      <td>NaN</td>\n    </tr>\n    <tr>\n      <th>4</th>\n      <td>AD</td>\n      <td>1993</td>\n      <td>NaN</td>\n      <td>NaN</td>\n      <td>NaN</td>\n      <td>NaN</td>\n      <td>NaN</td>\n      <td>NaN</td>\n      <td>NaN</td>\n      <td>NaN</td>\n      <td>...</td>\n      <td>NaN</td>\n      <td>NaN</td>\n      <td>NaN</td>\n      <td>NaN</td>\n      <td>NaN</td>\n      <td>NaN</td>\n      <td>NaN</td>\n      <td>NaN</td>\n      <td>NaN</td>\n      <td>NaN</td>\n    </tr>\n  </tbody>\n</table>\n<p>5 rows × 22 columns</p>\n</div>"
     },
     "metadata": {},
     "execution_count": 2
    }
   ]
  },
  {
   "cell_type": "code",
   "execution_count": 3,
   "metadata": {},
   "outputs": [
    {
     "output_type": "stream",
     "name": "stdout",
     "text": [
      "Index(['country', 'year', 'm04', 'm514', 'm014', 'm1524', 'm2534', 'm3544',\n       'm4554', 'm5564', 'm65', 'mu', 'f04', 'f514', 'f014', 'f1524', 'f2534',\n       'f3544', 'f4554', 'f5564', 'f65', 'fu'],\n      dtype='object')\n"
     ]
    }
   ],
   "source": [
    "# Getting the list of  columns\n",
    "print(data.columns)\n",
    "short = data[['country', 'year', 'm04', 'm514', 'm014', 'm1524', 'm2534', 'm3544', 'm4554', 'm5564', 'm65', 'mu', 'f04', 'f514', 'f014', 'f1524', 'f2534', 'f3544', 'f4554', 'f5564', 'f65', 'fu']]"
   ]
  },
  {
   "cell_type": "code",
   "execution_count": 4,
   "metadata": {},
   "outputs": [
    {
     "output_type": "execute_result",
     "data": {
      "text/plain": [
       "  country  year sex_age  confirmed_cases\n",
       "0      AD  1989     m04              NaN\n",
       "1      AD  1990     m04              NaN\n",
       "2      AD  1991     m04              NaN\n",
       "3      AD  1992     m04              NaN\n",
       "4      AD  1993     m04              NaN"
      ],
      "text/html": "<div>\n<style scoped>\n    .dataframe tbody tr th:only-of-type {\n        vertical-align: middle;\n    }\n\n    .dataframe tbody tr th {\n        vertical-align: top;\n    }\n\n    .dataframe thead th {\n        text-align: right;\n    }\n</style>\n<table border=\"1\" class=\"dataframe\">\n  <thead>\n    <tr style=\"text-align: right;\">\n      <th></th>\n      <th>country</th>\n      <th>year</th>\n      <th>sex_age</th>\n      <th>confirmed_cases</th>\n    </tr>\n  </thead>\n  <tbody>\n    <tr>\n      <th>0</th>\n      <td>AD</td>\n      <td>1989</td>\n      <td>m04</td>\n      <td>NaN</td>\n    </tr>\n    <tr>\n      <th>1</th>\n      <td>AD</td>\n      <td>1990</td>\n      <td>m04</td>\n      <td>NaN</td>\n    </tr>\n    <tr>\n      <th>2</th>\n      <td>AD</td>\n      <td>1991</td>\n      <td>m04</td>\n      <td>NaN</td>\n    </tr>\n    <tr>\n      <th>3</th>\n      <td>AD</td>\n      <td>1992</td>\n      <td>m04</td>\n      <td>NaN</td>\n    </tr>\n    <tr>\n      <th>4</th>\n      <td>AD</td>\n      <td>1993</td>\n      <td>m04</td>\n      <td>NaN</td>\n    </tr>\n  </tbody>\n</table>\n</div>"
     },
     "metadata": {},
     "execution_count": 4
    }
   ],
   "source": [
    "smelt = short.melt(['country', 'year'], ['m04', 'm514', 'm014', 'm1524', 'm2534', 'm3544', 'm4554', 'm5564', 'm65', 'mu', 'f04', 'f514', 'f014', 'f1524', 'f2534', 'f3544', 'f4554', 'f5564', 'f65'], 'sex_age', 'confirmed_cases')\n",
    "smelt.head()"
   ]
  },
  {
   "cell_type": "code",
   "execution_count": 5,
   "metadata": {},
   "outputs": [
    {
     "output_type": "execute_result",
     "data": {
      "text/plain": [
       "  country  year sex_age  cases Age Sex\n",
       "0      AD  1989     m04    NaN  04   m\n",
       "1      AD  1990     m04    NaN  04   m\n",
       "2      AD  1991     m04    NaN  04   m\n",
       "3      AD  1992     m04    NaN  04   m\n",
       "4      AD  1993     m04    NaN  04   m"
      ],
      "text/html": "<div>\n<style scoped>\n    .dataframe tbody tr th:only-of-type {\n        vertical-align: middle;\n    }\n\n    .dataframe tbody tr th {\n        vertical-align: top;\n    }\n\n    .dataframe thead th {\n        text-align: right;\n    }\n</style>\n<table border=\"1\" class=\"dataframe\">\n  <thead>\n    <tr style=\"text-align: right;\">\n      <th></th>\n      <th>country</th>\n      <th>year</th>\n      <th>sex_age</th>\n      <th>cases</th>\n      <th>Age</th>\n      <th>Sex</th>\n    </tr>\n  </thead>\n  <tbody>\n    <tr>\n      <th>0</th>\n      <td>AD</td>\n      <td>1989</td>\n      <td>m04</td>\n      <td>NaN</td>\n      <td>04</td>\n      <td>m</td>\n    </tr>\n    <tr>\n      <th>1</th>\n      <td>AD</td>\n      <td>1990</td>\n      <td>m04</td>\n      <td>NaN</td>\n      <td>04</td>\n      <td>m</td>\n    </tr>\n    <tr>\n      <th>2</th>\n      <td>AD</td>\n      <td>1991</td>\n      <td>m04</td>\n      <td>NaN</td>\n      <td>04</td>\n      <td>m</td>\n    </tr>\n    <tr>\n      <th>3</th>\n      <td>AD</td>\n      <td>1992</td>\n      <td>m04</td>\n      <td>NaN</td>\n      <td>04</td>\n      <td>m</td>\n    </tr>\n    <tr>\n      <th>4</th>\n      <td>AD</td>\n      <td>1993</td>\n      <td>m04</td>\n      <td>NaN</td>\n      <td>04</td>\n      <td>m</td>\n    </tr>\n  </tbody>\n</table>\n</div>"
     },
     "metadata": {},
     "execution_count": 5
    }
   ],
   "source": [
    "smelt['Age'] = smelt.sex_age.str.split(r\"m|f\", expand=True)[1]\n",
    "smelt['Sex'] = smelt.sex_age.str.split(r\"\\d+\", expand=True)[0]\n",
    "smelt = smelt.rename(columns={'confirmed_cases': 'cases'})\n",
    "smelt.head()"
   ]
  },
  {
   "cell_type": "code",
   "execution_count": 6,
   "metadata": {},
   "outputs": [
    {
     "output_type": "stream",
     "name": "stderr",
     "text": [
      "/Users/jayshah/.virtualenvs/venv/lib/python3.9/site-packages/pandas/util/_decorators.py:311: SettingWithCopyWarning: \nA value is trying to be set on a copy of a slice from a DataFrame\n\nSee the caveats in the documentation: https://pandas.pydata.org/pandas-docs/stable/user_guide/indexing.html#returning-a-view-versus-a-copy\n  return func(*args, **kwargs)\n"
     ]
    }
   ],
   "source": [
    "smelt_nona = smelt.dropna()\n",
    "sm)\n",
    "smelt_nsort_values(['country','year','Age'], inplace=True)"
   ]
  },
  {
   "cell_type": "code",
   "execution_count": 7,
   "metadata": {},
   "outputs": [
    {
     "output_type": "execute_result",
     "data": {
      "text/plain": [
       "      country  year sex_age  cases   Age Sex\n",
       "11544      AD  1996    m014    0.0   014   m\n",
       "69234      AD  1996    f014    0.0   014   f\n",
       "17313      AD  1996   m1524    0.0  1524   m\n",
       "75003      AD  1996   f1524    1.0  1524   f\n",
       "23082      AD  1996   m2534    0.0  2534   m"
      ],
      "text/html": "<div>\n<style scoped>\n    .dataframe tbody tr th:only-of-type {\n        vertical-align: middle;\n    }\n\n    .dataframe tbody tr th {\n        vertical-align: top;\n    }\n\n    .dataframe thead th {\n        text-align: right;\n    }\n</style>\n<table border=\"1\" class=\"dataframe\">\n  <thead>\n    <tr style=\"text-align: right;\">\n      <th></th>\n      <th>country</th>\n      <th>year</th>\n      <th>sex_age</th>\n      <th>cases</th>\n      <th>Age</th>\n      <th>Sex</th>\n    </tr>\n  </thead>\n  <tbody>\n    <tr>\n      <th>11544</th>\n      <td>AD</td>\n      <td>1996</td>\n      <td>m014</td>\n      <td>0.0</td>\n      <td>014</td>\n      <td>m</td>\n    </tr>\n    <tr>\n      <th>69234</th>\n      <td>AD</td>\n      <td>1996</td>\n      <td>f014</td>\n      <td>0.0</td>\n      <td>014</td>\n      <td>f</td>\n    </tr>\n    <tr>\n      <th>17313</th>\n      <td>AD</td>\n      <td>1996</td>\n      <td>m1524</td>\n      <td>0.0</td>\n      <td>1524</td>\n      <td>m</td>\n    </tr>\n    <tr>\n      <th>75003</th>\n      <td>AD</td>\n      <td>1996</td>\n      <td>f1524</td>\n      <td>1.0</td>\n      <td>1524</td>\n      <td>f</td>\n    </tr>\n    <tr>\n      <th>23082</th>\n      <td>AD</td>\n      <td>1996</td>\n      <td>m2534</td>\n      <td>0.0</td>\n      <td>2534</td>\n      <td>m</td>\n    </tr>\n  </tbody>\n</table>\n</div>"
     },
     "metadata": {},
     "execution_count": 7
    }
   ],
   "source": [
    "smelt_nona.head()"
   ]
  },
  {
   "cell_type": "code",
   "execution_count": 8,
   "metadata": {},
   "outputs": [],
   "source": [
    "def extract_age_group(age):\n",
    "    if len(age) == 3:\n",
    "        return age[0] + '-' + age[1:]\n",
    "    elif age == 'fu':\n",
    "        return np.nan\n",
    "    elif len(age) == 2:\n",
    "        return age + '+'\n",
    "    else:\n",
    "        return age[:2] + '-' + age[2:]"
   ]
  },
  {
   "cell_type": "code",
   "execution_count": 9,
   "metadata": {},
   "outputs": [
    {
     "output_type": "stream",
     "name": "stderr",
     "text": [
      "/var/folders/d5/l538v9qn7pz3xsfvbwlgdhtc0000gn/T/ipykernel_1812/397673274.py:1: SettingWithCopyWarning: \nA value is trying to be set on a copy of a slice from a DataFrame.\nTry using .loc[row_indexer,col_indexer] = value instead\n\nSee the caveats in the documentation: https://pandas.pydata.org/pandas-docs/stable/user_guide/indexing.html#returning-a-view-versus-a-copy\n  smelt_nona['Age'] = smelt_nona['Age'].apply(lambda s : extract_age_group(s))\n"
     ]
    },
    {
     "output_type": "execute_result",
     "data": {
      "text/plain": [
       "      country  year sex_age  cases    Age Sex\n",
       "11544      AD  1996    m014    0.0   0-14   m\n",
       "69234      AD  1996    f014    0.0   0-14   f\n",
       "17313      AD  1996   m1524    0.0  15-24   m\n",
       "75003      AD  1996   f1524    1.0  15-24   f\n",
       "23082      AD  1996   m2534    0.0  25-34   m"
      ],
      "text/html": "<div>\n<style scoped>\n    .dataframe tbody tr th:only-of-type {\n        vertical-align: middle;\n    }\n\n    .dataframe tbody tr th {\n        vertical-align: top;\n    }\n\n    .dataframe thead th {\n        text-align: right;\n    }\n</style>\n<table border=\"1\" class=\"dataframe\">\n  <thead>\n    <tr style=\"text-align: right;\">\n      <th></th>\n      <th>country</th>\n      <th>year</th>\n      <th>sex_age</th>\n      <th>cases</th>\n      <th>Age</th>\n      <th>Sex</th>\n    </tr>\n  </thead>\n  <tbody>\n    <tr>\n      <th>11544</th>\n      <td>AD</td>\n      <td>1996</td>\n      <td>m014</td>\n      <td>0.0</td>\n      <td>0-14</td>\n      <td>m</td>\n    </tr>\n    <tr>\n      <th>69234</th>\n      <td>AD</td>\n      <td>1996</td>\n      <td>f014</td>\n      <td>0.0</td>\n      <td>0-14</td>\n      <td>f</td>\n    </tr>\n    <tr>\n      <th>17313</th>\n      <td>AD</td>\n      <td>1996</td>\n      <td>m1524</td>\n      <td>0.0</td>\n      <td>15-24</td>\n      <td>m</td>\n    </tr>\n    <tr>\n      <th>75003</th>\n      <td>AD</td>\n      <td>1996</td>\n      <td>f1524</td>\n      <td>1.0</td>\n      <td>15-24</td>\n      <td>f</td>\n    </tr>\n    <tr>\n      <th>23082</th>\n      <td>AD</td>\n      <td>1996</td>\n      <td>m2534</td>\n      <td>0.0</td>\n      <td>25-34</td>\n      <td>m</td>\n    </tr>\n  </tbody>\n</table>\n</div>"
     },
     "metadata": {},
     "execution_count": 9
    }
   ],
   "source": [
    "smelt_nona['Age'] = smelt_nona['Age'].apply(lambda s : extract_age_group(s))\n",
    "smelt_nona.head()"
   ]
  },
  {
   "cell_type": "code",
   "execution_count": 10,
   "metadata": {},
   "outputs": [
    {
     "output_type": "stream",
     "name": "stderr",
     "text": [
      "/Users/jayshah/.virtualenvs/venv/lib/python3.9/site-packages/pandas/core/frame.py:4901: SettingWithCopyWarning: \nA value is trying to be set on a copy of a slice from a DataFrame\n\nSee the caveats in the documentation: https://pandas.pydata.org/pandas-docs/stable/user_guide/indexing.html#returning-a-view-versus-a-copy\n  return super().drop(\n"
     ]
    },
    {
     "output_type": "execute_result",
     "data": {
      "text/plain": [
       "      country  year    Age Sex  cases\n",
       "11544      AD  1996   0-14   m    0.0\n",
       "69234      AD  1996   0-14   f    0.0\n",
       "17313      AD  1996  15-24   m    0.0\n",
       "75003      AD  1996  15-24   f    1.0\n",
       "23082      AD  1996  25-34   m    0.0"
      ],
      "text/html": "<div>\n<style scoped>\n    .dataframe tbody tr th:only-of-type {\n        vertical-align: middle;\n    }\n\n    .dataframe tbody tr th {\n        vertical-align: top;\n    }\n\n    .dataframe thead th {\n        text-align: right;\n    }\n</style>\n<table border=\"1\" class=\"dataframe\">\n  <thead>\n    <tr style=\"text-align: right;\">\n      <th></th>\n      <th>country</th>\n      <th>year</th>\n      <th>Age</th>\n      <th>Sex</th>\n      <th>cases</th>\n    </tr>\n  </thead>\n  <tbody>\n    <tr>\n      <th>11544</th>\n      <td>AD</td>\n      <td>1996</td>\n      <td>0-14</td>\n      <td>m</td>\n      <td>0.0</td>\n    </tr>\n    <tr>\n      <th>69234</th>\n      <td>AD</td>\n      <td>1996</td>\n      <td>0-14</td>\n      <td>f</td>\n      <td>0.0</td>\n    </tr>\n    <tr>\n      <th>17313</th>\n      <td>AD</td>\n      <td>1996</td>\n      <td>15-24</td>\n      <td>m</td>\n      <td>0.0</td>\n    </tr>\n    <tr>\n      <th>75003</th>\n      <td>AD</td>\n      <td>1996</td>\n      <td>15-24</td>\n      <td>f</td>\n      <td>1.0</td>\n    </tr>\n    <tr>\n      <th>23082</th>\n      <td>AD</td>\n      <td>1996</td>\n      <td>25-34</td>\n      <td>m</td>\n      <td>0.0</td>\n    </tr>\n  </tbody>\n</table>\n</div>"
     },
     "metadata": {},
     "execution_count": 10
    }
   ],
   "source": [
    "smelt_nona.drop('sex_age', axis=1, inplace=True)\n",
    "smelt_nona = smelt_nona[['country', 'year','Age','Sex','cases']]\n",
    "smelt_nona.head()"
   ]
  },
  {
   "cell_type": "code",
   "execution_count": 11,
   "metadata": {},
   "outputs": [],
   "source": [
    "smelt_nona.index.name = 'index'"
   ]
  },
  {
   "cell_type": "code",
   "execution_count": 12,
   "metadata": {},
   "outputs": [],
   "source": [
    "smelt_nona.reset_index(inplace=True)"
   ]
  },
  {
   "cell_type": "code",
   "execution_count": 13,
   "metadata": {},
   "outputs": [
    {
     "output_type": "execute_result",
     "data": {
      "text/plain": [
       "   index country  year    Age Sex  cases\n",
       "0  11544      AD  1996   0-14   m    0.0\n",
       "1  69234      AD  1996   0-14   f    0.0\n",
       "2  17313      AD  1996  15-24   m    0.0\n",
       "3  75003      AD  1996  15-24   f    1.0\n",
       "4  23082      AD  1996  25-34   m    0.0"
      ],
      "text/html": "<div>\n<style scoped>\n    .dataframe tbody tr th:only-of-type {\n        vertical-align: middle;\n    }\n\n    .dataframe tbody tr th {\n        vertical-align: top;\n    }\n\n    .dataframe thead th {\n        text-align: right;\n    }\n</style>\n<table border=\"1\" class=\"dataframe\">\n  <thead>\n    <tr style=\"text-align: right;\">\n      <th></th>\n      <th>index</th>\n      <th>country</th>\n      <th>year</th>\n      <th>Age</th>\n      <th>Sex</th>\n      <th>cases</th>\n    </tr>\n  </thead>\n  <tbody>\n    <tr>\n      <th>0</th>\n      <td>11544</td>\n      <td>AD</td>\n      <td>1996</td>\n      <td>0-14</td>\n      <td>m</td>\n      <td>0.0</td>\n    </tr>\n    <tr>\n      <th>1</th>\n      <td>69234</td>\n      <td>AD</td>\n      <td>1996</td>\n      <td>0-14</td>\n      <td>f</td>\n      <td>0.0</td>\n    </tr>\n    <tr>\n      <th>2</th>\n      <td>17313</td>\n      <td>AD</td>\n      <td>1996</td>\n      <td>15-24</td>\n      <td>m</td>\n      <td>0.0</td>\n    </tr>\n    <tr>\n      <th>3</th>\n      <td>75003</td>\n      <td>AD</td>\n      <td>1996</td>\n      <td>15-24</td>\n      <td>f</td>\n      <td>1.0</td>\n    </tr>\n    <tr>\n      <th>4</th>\n      <td>23082</td>\n      <td>AD</td>\n      <td>1996</td>\n      <td>25-34</td>\n      <td>m</td>\n      <td>0.0</td>\n    </tr>\n  </tbody>\n</table>\n</div>"
     },
     "metadata": {},
     "execution_count": 13
    }
   ],
   "source": [
    "smelt_nona.head()"
   ]
  },
  {
   "cell_type": "code",
   "execution_count": null,
   "metadata": {},
   "outputs": [],
   "source": []
  }
 ]
}